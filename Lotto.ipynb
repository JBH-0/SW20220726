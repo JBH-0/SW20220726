{
  "nbformat": 4,
  "nbformat_minor": 0,
  "metadata": {
    "colab": {
      "name": "Lotto.ipynb",
      "provenance": [],
      "collapsed_sections": [],
      "authorship_tag": "ABX9TyOkfRvAzwxqLq0f1cd7IaSq",
      "include_colab_link": true
    },
    "kernelspec": {
      "name": "python3",
      "display_name": "Python 3"
    },
    "language_info": {
      "name": "python"
    }
  },
  "cells": [
    {
      "cell_type": "markdown",
      "metadata": {
        "id": "view-in-github",
        "colab_type": "text"
      },
      "source": [
        "<a href=\"https://colab.research.google.com/github/JBH-0/SW20220726/blob/main/Lotto.ipynb\" target=\"_parent\"><img src=\"https://colab.research.google.com/assets/colab-badge.svg\" alt=\"Open In Colab\"/></a>"
      ]
    },
    {
      "cell_type": "markdown",
      "source": [
        "로또 번호 생성"
      ],
      "metadata": {
        "id": "FG3tXQzhZTsF"
      }
    },
    {
      "cell_type": "code",
      "execution_count": 173,
      "metadata": {
        "id": "IIzv9jCFZQWa"
      },
      "outputs": [],
      "source": [
        "import random\n",
        "lotto=list(range(0,7))\n",
        "i=0\n",
        "j=0\n",
        "while(i<len(lotto)):\n",
        "  lotto[i]=random.randint(1,46)\n",
        "  while(j<i):\n",
        "    if lotto[i] == lotto[j]:\n",
        "      i-=1\n",
        "      break\n",
        "    j+=1\n",
        "  i+=1"
      ]
    },
    {
      "cell_type": "markdown",
      "source": [
        "사용자로부터 로또 번호 입력받기"
      ],
      "metadata": {
        "id": "A0td0HkR1c0Q"
      }
    },
    {
      "cell_type": "code",
      "source": [
        "for i in range(len(lotto)-1):\n",
        "  print(lotto[i],end=' ')\n",
        "print('\\n보너스 번호:',lotto[-1])"
      ],
      "metadata": {
        "colab": {
          "base_uri": "https://localhost:8080/"
        },
        "id": "EfJU0BHRa9L1",
        "outputId": "386ad268-d039-4b81-fd8c-19ff8d618175"
      },
      "execution_count": 174,
      "outputs": [
        {
          "output_type": "stream",
          "name": "stdout",
          "text": [
            "31 13 23 5 24 17 \n",
            "보너스 번호: 13\n"
          ]
        }
      ]
    },
    {
      "cell_type": "code",
      "source": [
        "num=list(map(int,input(\"로또 번호를 차례대로 입력해주세요: \").split()))\n",
        "bonus=int(input(\"보너스 번호를 입력해주세요: \"))"
      ],
      "metadata": {
        "colab": {
          "base_uri": "https://localhost:8080/"
        },
        "id": "ltmOSqoL1byS",
        "outputId": "cc52867a-2cce-455c-aa29-89567d497924"
      },
      "execution_count": 175,
      "outputs": [
        {
          "name": "stdout",
          "output_type": "stream",
          "text": [
            "로또 번호를 차례대로 입력해주세요: 13 31 5 21 42 6\n",
            "보너스 번호를 입력해주세요: 13\n"
          ]
        }
      ]
    },
    {
      "cell_type": "markdown",
      "source": [
        "결과 보여주기"
      ],
      "metadata": {
        "id": "2tAZK-9J2p4S"
      }
    },
    {
      "cell_type": "code",
      "source": [
        "count=0\n",
        "i=0\n",
        "while(i<len(lotto)-1):\n",
        "  if num[i] in lotto:\n",
        "    count+=1\n",
        "  i+=1"
      ],
      "metadata": {
        "id": "HCM-e88v2uHI"
      },
      "execution_count": 176,
      "outputs": []
    },
    {
      "cell_type": "code",
      "source": [
        "if count==3:\n",
        "  print('5등 입니다!') \n",
        "elif count==4:\n",
        "  print('4등 입니다!') \n",
        "elif count==5:\n",
        "  if bonus==lotto[-1]:\n",
        "    print('2등 입니다!') \n",
        "  else:\n",
        "    print('3등 입니다!')\n",
        "elif count==6:\n",
        "  print('1등 입니다!!!!!!') \n",
        "else:\n",
        "  print(\"꽝..다음 기회에..\")"
      ],
      "metadata": {
        "colab": {
          "base_uri": "https://localhost:8080/"
        },
        "id": "C3EB5wnO3YYZ",
        "outputId": "9e26e47e-f6a2-4ab1-814e-80aa87bcfcc7"
      },
      "execution_count": 177,
      "outputs": [
        {
          "output_type": "stream",
          "name": "stdout",
          "text": [
            "5등 입니다!\n"
          ]
        }
      ]
    },
    {
      "cell_type": "markdown",
      "source": [
        "로또 당첨번호 출력"
      ],
      "metadata": {
        "id": "vkwpSQ2O3a4Z"
      }
    },
    {
      "cell_type": "markdown",
      "source": [
        "로또 1등 당첨 번호"
      ],
      "metadata": {
        "id": "T1J0bl8dcGhe"
      }
    },
    {
      "cell_type": "code",
      "source": [
        "print(\"<로또 1등 당첨 번호>\")\n",
        "for i in range(len(lotto)-1):\n",
        "  print(lotto[i],end=' ')\n",
        "print()"
      ],
      "metadata": {
        "colab": {
          "base_uri": "https://localhost:8080/"
        },
        "id": "OduOI__DcHw2",
        "outputId": "783e85cf-9bc4-4d4d-9cfa-55ed002769e5"
      },
      "execution_count": 178,
      "outputs": [
        {
          "output_type": "stream",
          "name": "stdout",
          "text": [
            "<로또 1등 당첨 번호>\n",
            "31 13 23 5 24 17 \n"
          ]
        }
      ]
    },
    {
      "cell_type": "markdown",
      "source": [
        "로또 2등 당첨 번호"
      ],
      "metadata": {
        "id": "kJF-GP8Ez2Yi"
      }
    },
    {
      "cell_type": "code",
      "source": [
        "print(\"<로또 2등 당첨 번호>\\t\\t\\t\\t보너스 번호\")\n",
        "for i in range(len(lotto)-1):\n",
        "  for j in range(len(lotto)-1):\n",
        "    if i==j:\n",
        "      print('X',end='\\t')\n",
        "    else:\n",
        "      print(lotto[j],end='\\t')\n",
        "  print(lotto[-1])"
      ],
      "metadata": {
        "colab": {
          "base_uri": "https://localhost:8080/"
        },
        "id": "0Hcb7V8BxTAT",
        "outputId": "06c92da9-f4f2-4f37-d3c7-f69f7dacea63"
      },
      "execution_count": 179,
      "outputs": [
        {
          "output_type": "stream",
          "name": "stdout",
          "text": [
            "<로또 2등 당첨 번호>\t\t\t\t보너스 번호\n",
            "X\t13\t23\t5\t24\t17\t13\n",
            "31\tX\t23\t5\t24\t17\t13\n",
            "31\t13\tX\t5\t24\t17\t13\n",
            "31\t13\t23\tX\t24\t17\t13\n",
            "31\t13\t23\t5\tX\t17\t13\n",
            "31\t13\t23\t5\t24\tX\t13\n"
          ]
        }
      ]
    },
    {
      "cell_type": "markdown",
      "source": [
        "로또 3등 당첨 번호"
      ],
      "metadata": {
        "id": "2wDevHjxz4Uq"
      }
    },
    {
      "cell_type": "code",
      "source": [
        "print(\"<로또 3등 당첨 번호>\")\n",
        "for i in range(len(lotto)-1):\n",
        "  for j in range(len(lotto)-1):\n",
        "    if i==j:\n",
        "      print('X',end='\\t')\n",
        "    else:\n",
        "      print(lotto[j],end='\\t')\n",
        "  print()"
      ],
      "metadata": {
        "colab": {
          "base_uri": "https://localhost:8080/"
        },
        "id": "2PRzc4uqz1wb",
        "outputId": "f14cc62f-0901-43e9-e431-9edd4ceaa2d2"
      },
      "execution_count": 180,
      "outputs": [
        {
          "output_type": "stream",
          "name": "stdout",
          "text": [
            "<로또 3등 당첨 번호>\n",
            "X\t13\t23\t5\t24\t17\t\n",
            "31\tX\t23\t5\t24\t17\t\n",
            "31\t13\tX\t5\t24\t17\t\n",
            "31\t13\t23\tX\t24\t17\t\n",
            "31\t13\t23\t5\tX\t17\t\n",
            "31\t13\t23\t5\t24\tX\t\n"
          ]
        }
      ]
    },
    {
      "cell_type": "markdown",
      "source": [
        "로또 4등 당첨 번호"
      ],
      "metadata": {
        "id": "U6Kw9mhZ0DRx"
      }
    },
    {
      "cell_type": "code",
      "source": [
        "print(\"<로또 4등 당첨 번호>\")\n",
        "for i in range(len(lotto)-1):\n",
        "  for j in range(i+1,len(lotto)-1):\n",
        "    for k in range(len(lotto)-1):\n",
        "      if i==k:\n",
        "        print('X',end='\\t')\n",
        "      elif j==k:\n",
        "        print('X',end='\\t')\n",
        "      else:\n",
        "        print(lotto[k],end='\\t')\n",
        "    print()"
      ],
      "metadata": {
        "colab": {
          "base_uri": "https://localhost:8080/"
        },
        "id": "3Bkv6Mlu0EY5",
        "outputId": "22f0a49f-27ae-4c0c-9112-806b644d58ad"
      },
      "execution_count": 181,
      "outputs": [
        {
          "output_type": "stream",
          "name": "stdout",
          "text": [
            "<로또 4등 당첨 번호>\n",
            "X\tX\t23\t5\t24\t17\t\n",
            "X\t13\tX\t5\t24\t17\t\n",
            "X\t13\t23\tX\t24\t17\t\n",
            "X\t13\t23\t5\tX\t17\t\n",
            "X\t13\t23\t5\t24\tX\t\n",
            "31\tX\tX\t5\t24\t17\t\n",
            "31\tX\t23\tX\t24\t17\t\n",
            "31\tX\t23\t5\tX\t17\t\n",
            "31\tX\t23\t5\t24\tX\t\n",
            "31\t13\tX\tX\t24\t17\t\n",
            "31\t13\tX\t5\tX\t17\t\n",
            "31\t13\tX\t5\t24\tX\t\n",
            "31\t13\t23\tX\tX\t17\t\n",
            "31\t13\t23\tX\t24\tX\t\n",
            "31\t13\t23\t5\tX\tX\t\n"
          ]
        }
      ]
    },
    {
      "cell_type": "markdown",
      "source": [
        "로또 5등 당첨 번호 "
      ],
      "metadata": {
        "id": "0-REsCKB0ohJ"
      }
    },
    {
      "cell_type": "code",
      "source": [
        "print(\"<로또 5등 당첨 번호>\")\n",
        "for i in range(len(lotto)-1):\n",
        "  for j in range(i+1,len(lotto)-1):\n",
        "    for k in range(j+1,len(lotto)-1):\n",
        "      for l in range(len(lotto)-1):\n",
        "        if i==l:\n",
        "          print('X',end='\\t')\n",
        "        elif j==l:\n",
        "          print('X',end='\\t')\n",
        "        elif k==l:\n",
        "          print('X',end='\\t')\n",
        "        else:\n",
        "          print(lotto[l],end='\\t')\n",
        "      print()"
      ],
      "metadata": {
        "colab": {
          "base_uri": "https://localhost:8080/"
        },
        "id": "4OymVLdw0bPZ",
        "outputId": "9e08514d-e7fe-481a-d5d6-bd7504c03768"
      },
      "execution_count": 182,
      "outputs": [
        {
          "output_type": "stream",
          "name": "stdout",
          "text": [
            "<로또 5등 당첨 번호>\n",
            "X\tX\tX\t5\t24\t17\t\n",
            "X\tX\t23\tX\t24\t17\t\n",
            "X\tX\t23\t5\tX\t17\t\n",
            "X\tX\t23\t5\t24\tX\t\n",
            "X\t13\tX\tX\t24\t17\t\n",
            "X\t13\tX\t5\tX\t17\t\n",
            "X\t13\tX\t5\t24\tX\t\n",
            "X\t13\t23\tX\tX\t17\t\n",
            "X\t13\t23\tX\t24\tX\t\n",
            "X\t13\t23\t5\tX\tX\t\n",
            "31\tX\tX\tX\t24\t17\t\n",
            "31\tX\tX\t5\tX\t17\t\n",
            "31\tX\tX\t5\t24\tX\t\n",
            "31\tX\t23\tX\tX\t17\t\n",
            "31\tX\t23\tX\t24\tX\t\n",
            "31\tX\t23\t5\tX\tX\t\n",
            "31\t13\tX\tX\tX\t17\t\n",
            "31\t13\tX\tX\t24\tX\t\n",
            "31\t13\tX\t5\tX\tX\t\n",
            "31\t13\t23\tX\tX\tX\t\n"
          ]
        }
      ]
    }
  ]
}