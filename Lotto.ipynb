{
  "nbformat": 4,
  "nbformat_minor": 0,
  "metadata": {
    "colab": {
      "name": "Lotto.ipynb",
      "provenance": [],
      "authorship_tag": "ABX9TyPkdz8yDSSU7yXnRGnPSbzL",
      "include_colab_link": true
    },
    "kernelspec": {
      "name": "python3",
      "display_name": "Python 3"
    },
    "language_info": {
      "name": "python"
    }
  },
  "cells": [
    {
      "cell_type": "markdown",
      "metadata": {
        "id": "view-in-github",
        "colab_type": "text"
      },
      "source": [
        "<a href=\"https://colab.research.google.com/github/JBH-0/SW20220726/blob/main/Lotto.ipynb\" target=\"_parent\"><img src=\"https://colab.research.google.com/assets/colab-badge.svg\" alt=\"Open In Colab\"/></a>"
      ]
    },
    {
      "cell_type": "markdown",
      "source": [
        "로또 번호 생성"
      ],
      "metadata": {
        "id": "FG3tXQzhZTsF"
      }
    },
    {
      "cell_type": "code",
      "execution_count": null,
      "metadata": {
        "id": "IIzv9jCFZQWa"
      },
      "outputs": [],
      "source": [
        "import random\n",
        "lotto=list(range(0,7))\n",
        "for i in range(len(lotto)):\n",
        "  lotto[i]=random.randint(1,46)\n",
        "  for j in range(i):\n",
        "    if lotto[i]==lotto[j]:\n",
        "      i-=1;\n",
        "      break;"
      ]
    },
    {
      "cell_type": "markdown",
      "source": [
        "사용자로부터 로또 번호 입력받기"
      ],
      "metadata": {
        "id": "A0td0HkR1c0Q"
      }
    },
    {
      "cell_type": "code",
      "source": [
        "num=list(map(int,input(\"로또 번호를 차례대로 입력해주세요: \").split()))\n",
        "bonus=int(input(\"보너스 번호를 입력해주세요: \"))"
      ],
      "metadata": {
        "colab": {
          "base_uri": "https://localhost:8080/"
        },
        "id": "ltmOSqoL1byS",
        "outputId": "e850b6b0-ada2-4dd8-a455-7261569053c0"
      },
      "execution_count": null,
      "outputs": [
        {
          "name": "stdout",
          "output_type": "stream",
          "text": [
            "로또 번호를 차례대로 입력해주세요: 12 21 34 42 5 2\n",
            "보너스 번호를 입력해주세요: 31\n"
          ]
        }
      ]
    },
    {
      "cell_type": "markdown",
      "source": [
        "결과 보여주기"
      ],
      "metadata": {
        "id": "2tAZK-9J2p4S"
      }
    },
    {
      "cell_type": "code",
      "source": [
        "count=0\n",
        "for i in range(len(num)-1):\n",
        "  for j in range(len(num)-1):\n",
        "    if lotto[i]==num[j]:\n",
        "      count+=1"
      ],
      "metadata": {
        "id": "HCM-e88v2uHI"
      },
      "execution_count": null,
      "outputs": []
    },
    {
      "cell_type": "code",
      "source": [
        "if count==3:\n",
        "  print('5등 입니다!') \n",
        "elif count==4:\n",
        "  print('4등 입니다!') \n",
        "elif count==5:\n",
        "  if bonus==lotto[-1]:\n",
        "    print('2등 입니다!') \n",
        "  else:\n",
        "    print('3등 입니다!')\n",
        "elif count==6:\n",
        "  print('1등 입니다!!!!!!') \n",
        "else:\n",
        "  print(\"꽝..다음 기회에..\")"
      ],
      "metadata": {
        "colab": {
          "base_uri": "https://localhost:8080/"
        },
        "id": "C3EB5wnO3YYZ",
        "outputId": "5509f076-56eb-4735-f7de-f14da8ebe9c1"
      },
      "execution_count": null,
      "outputs": [
        {
          "output_type": "stream",
          "name": "stdout",
          "text": [
            "꽝..다음 기회에..\n"
          ]
        }
      ]
    },
    {
      "cell_type": "markdown",
      "source": [
        "로또 당첨번호 출력"
      ],
      "metadata": {
        "id": "vkwpSQ2O3a4Z"
      }
    },
    {
      "cell_type": "code",
      "source": [
        "for i in range(len(lotto)-1):\n",
        "  print(lotto[i],end=' ')\n",
        "print('\\n보너스 번호:',lotto[-1])"
      ],
      "metadata": {
        "colab": {
          "base_uri": "https://localhost:8080/"
        },
        "id": "EfJU0BHRa9L1",
        "outputId": "d6b2e948-4089-4b73-94d9-cc386067ae52"
      },
      "execution_count": null,
      "outputs": [
        {
          "output_type": "stream",
          "name": "stdout",
          "text": [
            "32 13 46 18 37 21 \n",
            "보너스 번호: 19\n"
          ]
        }
      ]
    },
    {
      "cell_type": "markdown",
      "source": [
        "로또 1등 당첨 번호"
      ],
      "metadata": {
        "id": "T1J0bl8dcGhe"
      }
    },
    {
      "cell_type": "code",
      "source": [
        "print(\"<로또 1등 당첨 번호>\")\n",
        "for i in range(len(lotto)-1):\n",
        "  print(lotto[i],end=' ')\n",
        "print()"
      ],
      "metadata": {
        "colab": {
          "base_uri": "https://localhost:8080/"
        },
        "id": "OduOI__DcHw2",
        "outputId": "73f70595-09b0-426c-b6e0-98ca89bfcc8a"
      },
      "execution_count": null,
      "outputs": [
        {
          "output_type": "stream",
          "name": "stdout",
          "text": [
            "로또 1등 당첨 번호\n",
            "32 13 46 18 37 21 "
          ]
        }
      ]
    },
    {
      "cell_type": "markdown",
      "source": [
        "로또 2등 당첨 번호"
      ],
      "metadata": {
        "id": "kJF-GP8Ez2Yi"
      }
    },
    {
      "cell_type": "code",
      "source": [
        "print(\"<로또 2등 당첨 번호>\\t\\t\\t\\t보너스 번호\")\n",
        "for i in range(len(lotto)-1):\n",
        "  for j in range(len(lotto)-1):\n",
        "    if i==j:\n",
        "      print('X',end='\\t')\n",
        "    else:\n",
        "      print(lotto[j],end='\\t')\n",
        "  print(lotto[-1])"
      ],
      "metadata": {
        "colab": {
          "base_uri": "https://localhost:8080/"
        },
        "id": "0Hcb7V8BxTAT",
        "outputId": "0c2212c7-b7bc-484e-cce7-2bb102a82bb3"
      },
      "execution_count": null,
      "outputs": [
        {
          "output_type": "stream",
          "name": "stdout",
          "text": [
            "<로또 2등 당첨 번호>\t\t\t\t보너스 번호\n",
            "X\t13\t46\t18\t37\t21\t19\n",
            "32\tX\t46\t18\t37\t21\t19\n",
            "32\t13\tX\t18\t37\t21\t19\n",
            "32\t13\t46\tX\t37\t21\t19\n",
            "32\t13\t46\t18\tX\t21\t19\n",
            "32\t13\t46\t18\t37\tX\t19\n"
          ]
        }
      ]
    },
    {
      "cell_type": "markdown",
      "source": [
        "로또 3등 당첨 번호"
      ],
      "metadata": {
        "id": "2wDevHjxz4Uq"
      }
    },
    {
      "cell_type": "code",
      "source": [
        "print(\"<로또 3등 당첨 번호>\")\n",
        "for i in range(len(lotto)-1):\n",
        "  for j in range(len(lotto)-1):\n",
        "    if i==j:\n",
        "      print('X',end='\\t')\n",
        "    else:\n",
        "      print(lotto[j],end='\\t')\n",
        "  print()"
      ],
      "metadata": {
        "colab": {
          "base_uri": "https://localhost:8080/"
        },
        "id": "2PRzc4uqz1wb",
        "outputId": "e436501f-85bf-4940-c049-bdfee523f4ed"
      },
      "execution_count": null,
      "outputs": [
        {
          "output_type": "stream",
          "name": "stdout",
          "text": [
            "<로또 3등 당첨 번호>\n",
            "X\t13\t46\t18\t37\t21\t\n",
            "32\tX\t46\t18\t37\t21\t\n",
            "32\t13\tX\t18\t37\t21\t\n",
            "32\t13\t46\tX\t37\t21\t\n",
            "32\t13\t46\t18\tX\t21\t\n",
            "32\t13\t46\t18\t37\tX\t\n"
          ]
        }
      ]
    },
    {
      "cell_type": "markdown",
      "source": [
        "로또 4등 당첨 번호"
      ],
      "metadata": {
        "id": "U6Kw9mhZ0DRx"
      }
    },
    {
      "cell_type": "code",
      "source": [
        "print(\"<로또 4등 당첨 번호>\")\n",
        "for i in range(len(lotto)-1):\n",
        "  for j in range(i+1,len(lotto)-1):\n",
        "    for k in range(len(lotto)-1):\n",
        "      if i==k:\n",
        "        print('X',end='\\t')\n",
        "      elif j==k:\n",
        "        print('X',end='\\t')\n",
        "      else:\n",
        "        print(lotto[k],end='\\t')\n",
        "    print()"
      ],
      "metadata": {
        "colab": {
          "base_uri": "https://localhost:8080/"
        },
        "id": "3Bkv6Mlu0EY5",
        "outputId": "a7aeadd3-62d6-4a57-8032-e7dc1840bcaf"
      },
      "execution_count": null,
      "outputs": [
        {
          "output_type": "stream",
          "name": "stdout",
          "text": [
            "<로또 4등 당첨 번호>\n",
            "X\tX\t46\t18\t37\t21\t\n",
            "X\t13\tX\t18\t37\t21\t\n",
            "X\t13\t46\tX\t37\t21\t\n",
            "X\t13\t46\t18\tX\t21\t\n",
            "X\t13\t46\t18\t37\tX\t\n",
            "32\tX\tX\t18\t37\t21\t\n",
            "32\tX\t46\tX\t37\t21\t\n",
            "32\tX\t46\t18\tX\t21\t\n",
            "32\tX\t46\t18\t37\tX\t\n",
            "32\t13\tX\tX\t37\t21\t\n",
            "32\t13\tX\t18\tX\t21\t\n",
            "32\t13\tX\t18\t37\tX\t\n",
            "32\t13\t46\tX\tX\t21\t\n",
            "32\t13\t46\tX\t37\tX\t\n",
            "32\t13\t46\t18\tX\tX\t\n"
          ]
        }
      ]
    },
    {
      "cell_type": "markdown",
      "source": [
        "로또 5등 당첨 번호 "
      ],
      "metadata": {
        "id": "0-REsCKB0ohJ"
      }
    },
    {
      "cell_type": "code",
      "source": [
        "print(\"<로또 5등 당첨 번호>\")\n",
        "for i in range(len(lotto)-1):\n",
        "  for j in range(i+1,len(lotto)-1):\n",
        "    for k in range(j+1,len(lotto)-1):\n",
        "      for l in range(len(lotto)-1):\n",
        "        if i==l:\n",
        "          print('X',end='\\t')\n",
        "        elif j==l:\n",
        "          print('X',end='\\t')\n",
        "        elif k==l:\n",
        "          print('X',end='\\t')\n",
        "        else:\n",
        "          print(lotto[l],end='\\t')\n",
        "      print()"
      ],
      "metadata": {
        "colab": {
          "base_uri": "https://localhost:8080/"
        },
        "id": "4OymVLdw0bPZ",
        "outputId": "fc7dd7dd-5e6b-4e39-e82c-92059cde4495"
      },
      "execution_count": null,
      "outputs": [
        {
          "output_type": "stream",
          "name": "stdout",
          "text": [
            "<로또 5등 당첨 번호>\n",
            "X\tX\tX\t18\t37\t21\t\n",
            "X\tX\t46\tX\t37\t21\t\n",
            "X\tX\t46\t18\tX\t21\t\n",
            "X\tX\t46\t18\t37\tX\t\n",
            "X\t13\tX\tX\t37\t21\t\n",
            "X\t13\tX\t18\tX\t21\t\n",
            "X\t13\tX\t18\t37\tX\t\n",
            "X\t13\t46\tX\tX\t21\t\n",
            "X\t13\t46\tX\t37\tX\t\n",
            "X\t13\t46\t18\tX\tX\t\n",
            "32\tX\tX\tX\t37\t21\t\n",
            "32\tX\tX\t18\tX\t21\t\n",
            "32\tX\tX\t18\t37\tX\t\n",
            "32\tX\t46\tX\tX\t21\t\n",
            "32\tX\t46\tX\t37\tX\t\n",
            "32\tX\t46\t18\tX\tX\t\n",
            "32\t13\tX\tX\tX\t21\t\n",
            "32\t13\tX\tX\t37\tX\t\n",
            "32\t13\tX\t18\tX\tX\t\n",
            "32\t13\t46\tX\tX\tX\t\n"
          ]
        }
      ]
    }
  ]
}