{
  "nbformat": 4,
  "nbformat_minor": 0,
  "metadata": {
    "colab": {
      "name": "Lotto.ipynb",
      "provenance": [],
      "collapsed_sections": [],
      "authorship_tag": "ABX9TyMymdaa+JzPhbexOB6Ktvu5",
      "include_colab_link": true
    },
    "kernelspec": {
      "name": "python3",
      "display_name": "Python 3"
    },
    "language_info": {
      "name": "python"
    }
  },
  "cells": [
    {
      "cell_type": "markdown",
      "metadata": {
        "id": "view-in-github",
        "colab_type": "text"
      },
      "source": [
        "<a href=\"https://colab.research.google.com/github/JBH-0/SW20220726/blob/main/Lotto.ipynb\" target=\"_parent\"><img src=\"https://colab.research.google.com/assets/colab-badge.svg\" alt=\"Open In Colab\"/></a>"
      ]
    },
    {
      "cell_type": "markdown",
      "source": [
        "로또 번호 생성"
      ],
      "metadata": {
        "id": "FG3tXQzhZTsF"
      }
    },
    {
      "cell_type": "code",
      "execution_count": 1,
      "metadata": {
        "id": "IIzv9jCFZQWa"
      },
      "outputs": [],
      "source": [
        "import random\n",
        "lotto=list(range(0,7))\n",
        "i=0\n",
        "while(i<len(lotto)):\n",
        "  lotto[i]=random.randint(1,46)\n",
        "  j=0\n",
        "  while(j<i):\n",
        "    if lotto[i] == lotto[j]:\n",
        "      i-=1\n",
        "      break\n",
        "    j+=1\n",
        "  i+=1"
      ]
    },
    {
      "cell_type": "markdown",
      "source": [
        "사용자로부터 로또 번호 입력받기"
      ],
      "metadata": {
        "id": "A0td0HkR1c0Q"
      }
    },
    {
      "cell_type": "code",
      "source": [
        "for i in range(len(lotto)-1):\n",
        "  print(lotto[i],end=' ')\n",
        "print('\\n보너스 번호:',lotto[-1])"
      ],
      "metadata": {
        "colab": {
          "base_uri": "https://localhost:8080/"
        },
        "id": "EfJU0BHRa9L1",
        "outputId": "16041700-a025-41d4-b67a-aba126b9839e"
      },
      "execution_count": 2,
      "outputs": [
        {
          "output_type": "stream",
          "name": "stdout",
          "text": [
            "35 9 38 18 2 44 \n",
            "보너스 번호: 15\n"
          ]
        }
      ]
    },
    {
      "cell_type": "code",
      "source": [
        "num=list(map(int,input(\"로또 번호를 차례대로 입력해주세요: \").split()))\n",
        "bonus=int(input(\"보너스 번호를 입력해주세요: \"))"
      ],
      "metadata": {
        "colab": {
          "base_uri": "https://localhost:8080/"
        },
        "id": "ltmOSqoL1byS",
        "outputId": "6b9c3c07-80d9-4d77-c51e-d2b804169763"
      },
      "execution_count": 3,
      "outputs": [
        {
          "name": "stdout",
          "output_type": "stream",
          "text": [
            "로또 번호를 차례대로 입력해주세요: 35 18 3 2 9 44\n",
            "보너스 번호를 입력해주세요: 42\n"
          ]
        }
      ]
    },
    {
      "cell_type": "markdown",
      "source": [
        "결과 보여주기"
      ],
      "metadata": {
        "id": "2tAZK-9J2p4S"
      }
    },
    {
      "cell_type": "code",
      "source": [
        "count=0\n",
        "i=0\n",
        "while(i<len(lotto)-1):\n",
        "  if num[i] in lotto:\n",
        "    count+=1\n",
        "  i+=1"
      ],
      "metadata": {
        "id": "HCM-e88v2uHI"
      },
      "execution_count": 4,
      "outputs": []
    },
    {
      "cell_type": "code",
      "source": [
        "if count==3:\n",
        "  print('5등 입니다!') \n",
        "elif count==4:\n",
        "  print('4등 입니다!') \n",
        "elif count==5:\n",
        "  if bonus==lotto[-1]:\n",
        "    print('2등 입니다!') \n",
        "  else:\n",
        "    print('3등 입니다!')\n",
        "elif count==6:\n",
        "  print('1등 입니다!!!!!!') \n",
        "else:\n",
        "  print(\"꽝..다음 기회에..\")"
      ],
      "metadata": {
        "colab": {
          "base_uri": "https://localhost:8080/"
        },
        "id": "C3EB5wnO3YYZ",
        "outputId": "0078e531-ed99-4463-899d-557291fa6d99"
      },
      "execution_count": 5,
      "outputs": [
        {
          "output_type": "stream",
          "name": "stdout",
          "text": [
            "3등 입니다!\n"
          ]
        }
      ]
    },
    {
      "cell_type": "markdown",
      "source": [
        "로또 당첨번호 출력"
      ],
      "metadata": {
        "id": "vkwpSQ2O3a4Z"
      }
    },
    {
      "cell_type": "markdown",
      "source": [
        "로또 1등 당첨 번호"
      ],
      "metadata": {
        "id": "T1J0bl8dcGhe"
      }
    },
    {
      "cell_type": "code",
      "source": [
        "print(\"<로또 1등 당첨 번호>\")\n",
        "for i in range(len(lotto)-1):\n",
        "  print(lotto[i],end=' ')\n",
        "print()"
      ],
      "metadata": {
        "colab": {
          "base_uri": "https://localhost:8080/"
        },
        "id": "OduOI__DcHw2",
        "outputId": "b9ee6751-e296-48c8-e4bf-7121fc0fdabb"
      },
      "execution_count": 6,
      "outputs": [
        {
          "output_type": "stream",
          "name": "stdout",
          "text": [
            "<로또 1등 당첨 번호>\n",
            "35 9 38 18 2 44 \n"
          ]
        }
      ]
    },
    {
      "cell_type": "markdown",
      "source": [
        "로또 2등 당첨 번호"
      ],
      "metadata": {
        "id": "kJF-GP8Ez2Yi"
      }
    },
    {
      "cell_type": "code",
      "source": [
        "print(\"<로또 2등 당첨 번호>\\t\\t\\t\\t보너스 번호\")\n",
        "for i in range(len(lotto)-1):\n",
        "  for j in range(len(lotto)-1):\n",
        "    if i==j:\n",
        "      print('X',end='\\t')\n",
        "    else:\n",
        "      print(lotto[j],end='\\t')\n",
        "  print(lotto[-1])"
      ],
      "metadata": {
        "colab": {
          "base_uri": "https://localhost:8080/"
        },
        "id": "0Hcb7V8BxTAT",
        "outputId": "f1bc8ee3-aa2a-4f81-8dc0-79ef876feb96"
      },
      "execution_count": 7,
      "outputs": [
        {
          "output_type": "stream",
          "name": "stdout",
          "text": [
            "<로또 2등 당첨 번호>\t\t\t\t보너스 번호\n",
            "X\t9\t38\t18\t2\t44\t15\n",
            "35\tX\t38\t18\t2\t44\t15\n",
            "35\t9\tX\t18\t2\t44\t15\n",
            "35\t9\t38\tX\t2\t44\t15\n",
            "35\t9\t38\t18\tX\t44\t15\n",
            "35\t9\t38\t18\t2\tX\t15\n"
          ]
        }
      ]
    },
    {
      "cell_type": "markdown",
      "source": [
        "로또 3등 당첨 번호"
      ],
      "metadata": {
        "id": "2wDevHjxz4Uq"
      }
    },
    {
      "cell_type": "code",
      "source": [
        "print(\"<로또 3등 당첨 번호>\")\n",
        "for i in range(len(lotto)-1):\n",
        "  for j in range(len(lotto)-1):\n",
        "    if i==j:\n",
        "      print('X',end='\\t')\n",
        "    else:\n",
        "      print(lotto[j],end='\\t')\n",
        "  print()"
      ],
      "metadata": {
        "colab": {
          "base_uri": "https://localhost:8080/"
        },
        "id": "2PRzc4uqz1wb",
        "outputId": "7bf9aaec-d246-4e3d-bafe-efeedf3609c8"
      },
      "execution_count": 8,
      "outputs": [
        {
          "output_type": "stream",
          "name": "stdout",
          "text": [
            "<로또 3등 당첨 번호>\n",
            "X\t9\t38\t18\t2\t44\t\n",
            "35\tX\t38\t18\t2\t44\t\n",
            "35\t9\tX\t18\t2\t44\t\n",
            "35\t9\t38\tX\t2\t44\t\n",
            "35\t9\t38\t18\tX\t44\t\n",
            "35\t9\t38\t18\t2\tX\t\n"
          ]
        }
      ]
    },
    {
      "cell_type": "markdown",
      "source": [
        "로또 4등 당첨 번호"
      ],
      "metadata": {
        "id": "U6Kw9mhZ0DRx"
      }
    },
    {
      "cell_type": "code",
      "source": [
        "print(\"<로또 4등 당첨 번호>\")\n",
        "for i in range(len(lotto)-1):\n",
        "  for j in range(i+1,len(lotto)-1):\n",
        "    for k in range(len(lotto)-1):\n",
        "      if i==k:\n",
        "        print('X',end='\\t')\n",
        "      elif j==k:\n",
        "        print('X',end='\\t')\n",
        "      else:\n",
        "        print(lotto[k],end='\\t')\n",
        "    print()"
      ],
      "metadata": {
        "colab": {
          "base_uri": "https://localhost:8080/"
        },
        "id": "3Bkv6Mlu0EY5",
        "outputId": "8fdcc112-f45d-4065-dfd9-06e92c2ba7b5"
      },
      "execution_count": 9,
      "outputs": [
        {
          "output_type": "stream",
          "name": "stdout",
          "text": [
            "<로또 4등 당첨 번호>\n",
            "X\tX\t38\t18\t2\t44\t\n",
            "X\t9\tX\t18\t2\t44\t\n",
            "X\t9\t38\tX\t2\t44\t\n",
            "X\t9\t38\t18\tX\t44\t\n",
            "X\t9\t38\t18\t2\tX\t\n",
            "35\tX\tX\t18\t2\t44\t\n",
            "35\tX\t38\tX\t2\t44\t\n",
            "35\tX\t38\t18\tX\t44\t\n",
            "35\tX\t38\t18\t2\tX\t\n",
            "35\t9\tX\tX\t2\t44\t\n",
            "35\t9\tX\t18\tX\t44\t\n",
            "35\t9\tX\t18\t2\tX\t\n",
            "35\t9\t38\tX\tX\t44\t\n",
            "35\t9\t38\tX\t2\tX\t\n",
            "35\t9\t38\t18\tX\tX\t\n"
          ]
        }
      ]
    },
    {
      "cell_type": "markdown",
      "source": [
        "로또 5등 당첨 번호 "
      ],
      "metadata": {
        "id": "0-REsCKB0ohJ"
      }
    },
    {
      "cell_type": "code",
      "source": [
        "print(\"<로또 5등 당첨 번호>\")\n",
        "for i in range(len(lotto)-1):\n",
        "  for j in range(i+1,len(lotto)-1):\n",
        "    for k in range(j+1,len(lotto)-1):\n",
        "      for l in range(len(lotto)-1):\n",
        "        if i==l:\n",
        "          print('X',end='\\t')\n",
        "        elif j==l:\n",
        "          print('X',end='\\t')\n",
        "        elif k==l:\n",
        "          print('X',end='\\t')\n",
        "        else:\n",
        "          print(lotto[l],end='\\t')\n",
        "      print()"
      ],
      "metadata": {
        "colab": {
          "base_uri": "https://localhost:8080/"
        },
        "id": "4OymVLdw0bPZ",
        "outputId": "a3f9f2e5-f46e-447d-bf22-fd27907e1fbf"
      },
      "execution_count": 10,
      "outputs": [
        {
          "output_type": "stream",
          "name": "stdout",
          "text": [
            "<로또 5등 당첨 번호>\n",
            "X\tX\tX\t18\t2\t44\t\n",
            "X\tX\t38\tX\t2\t44\t\n",
            "X\tX\t38\t18\tX\t44\t\n",
            "X\tX\t38\t18\t2\tX\t\n",
            "X\t9\tX\tX\t2\t44\t\n",
            "X\t9\tX\t18\tX\t44\t\n",
            "X\t9\tX\t18\t2\tX\t\n",
            "X\t9\t38\tX\tX\t44\t\n",
            "X\t9\t38\tX\t2\tX\t\n",
            "X\t9\t38\t18\tX\tX\t\n",
            "35\tX\tX\tX\t2\t44\t\n",
            "35\tX\tX\t18\tX\t44\t\n",
            "35\tX\tX\t18\t2\tX\t\n",
            "35\tX\t38\tX\tX\t44\t\n",
            "35\tX\t38\tX\t2\tX\t\n",
            "35\tX\t38\t18\tX\tX\t\n",
            "35\t9\tX\tX\tX\t44\t\n",
            "35\t9\tX\tX\t2\tX\t\n",
            "35\t9\tX\t18\tX\tX\t\n",
            "35\t9\t38\tX\tX\tX\t\n"
          ]
        }
      ]
    }
  ]
}