{
  "nbformat": 4,
  "nbformat_minor": 0,
  "metadata": {
    "colab": {
      "name": "star.ipynb",
      "provenance": [],
      "collapsed_sections": [],
      "authorship_tag": "ABX9TyOeY513ExKqHgk120wmWDzA",
      "include_colab_link": true
    },
    "kernelspec": {
      "name": "python3",
      "display_name": "Python 3"
    },
    "language_info": {
      "name": "python"
    }
  },
  "cells": [
    {
      "cell_type": "markdown",
      "metadata": {
        "id": "view-in-github",
        "colab_type": "text"
      },
      "source": [
        "<a href=\"https://colab.research.google.com/github/JBH-0/SW20220726/blob/main/star.ipynb\" target=\"_parent\"><img src=\"https://colab.research.google.com/assets/colab-badge.svg\" alt=\"Open In Colab\"/></a>"
      ]
    },
    {
      "cell_type": "markdown",
      "source": [
        "별 출력하기\n",
        "for문"
      ],
      "metadata": {
        "id": "2ViutD04TxBO"
      }
    },
    {
      "cell_type": "code",
      "source": [
        "a=int(input(\"몇 층?: \"))\n",
        "for i in range(a):\n",
        "  for j in range(a):\n",
        "      print('*',end='')\n",
        "  print()"
      ],
      "metadata": {
        "colab": {
          "base_uri": "https://localhost:8080/"
        },
        "id": "9L-QdCY8KHHR",
        "outputId": "7c154e89-8274-4aa0-c8d2-ab32c84d1cf8"
      },
      "execution_count": null,
      "outputs": [
        {
          "output_type": "stream",
          "name": "stdout",
          "text": [
            "몇 층?: 3\n",
            "***\n",
            "***\n",
            "***\n"
          ]
        }
      ]
    },
    {
      "cell_type": "code",
      "execution_count": null,
      "metadata": {
        "colab": {
          "base_uri": "https://localhost:8080/"
        },
        "id": "a6OHgCDkJUCz",
        "outputId": "21480d5a-3679-46f4-d9f2-484bf7586536"
      },
      "outputs": [
        {
          "output_type": "stream",
          "name": "stdout",
          "text": [
            "몇 층?: 5\n",
            "\n",
            "*\n",
            "**\n",
            "***\n",
            "****\n",
            "*****\n"
          ]
        }
      ],
      "source": [
        "a=int(input(\"몇 층?: \"))\n",
        "for i in range(a+1):\n",
        "  for j in range(i):\n",
        "      print('*',end='')\n",
        "  print()"
      ]
    },
    {
      "cell_type": "code",
      "source": [
        "a=int(input(\"몇 층?: \"))\n",
        "for i in range(a+1):\n",
        "  for j in range(a-i):\n",
        "      print(' ',end='')\n",
        "  for k in range(i):\n",
        "      print('*',end='')\n",
        "  print()"
      ],
      "metadata": {
        "colab": {
          "base_uri": "https://localhost:8080/"
        },
        "id": "97rs38KhJvRC",
        "outputId": "4173d9de-ca4c-4e06-c39f-8417669feb5f"
      },
      "execution_count": null,
      "outputs": [
        {
          "output_type": "stream",
          "name": "stdout",
          "text": [
            "몇 층?: 3\n",
            "   \n",
            "  *\n",
            " **\n",
            "***\n"
          ]
        }
      ]
    },
    {
      "cell_type": "code",
      "source": [
        "a=int(input(\"몇 층?: \"))\n",
        "for i in range(a):\n",
        "  for j in range(a-i-1):\n",
        "      print(' ',end='')\n",
        "  for k in range(2*i+1):\n",
        "      print('*',end='')\n",
        "  print()"
      ],
      "metadata": {
        "colab": {
          "base_uri": "https://localhost:8080/"
        },
        "id": "hjWqXnjlL43h",
        "outputId": "e815f553-bd44-45d3-99b3-1cc2dbe02297"
      },
      "execution_count": 1,
      "outputs": [
        {
          "output_type": "stream",
          "name": "stdout",
          "text": [
            "몇 층?: 3\n",
            "  *\n",
            " ***\n",
            "*****\n"
          ]
        }
      ]
    },
    {
      "cell_type": "code",
      "source": [
        "a=int(input(\"몇 층?: \"))\n",
        "for i in range(a+1):\n",
        "  for j in range(i+1):\n",
        "      print(' ',end='')\n",
        "  for k in range(a+1-i*2+1):\n",
        "      print('*',end='')\n",
        "  print()"
      ],
      "metadata": {
        "colab": {
          "base_uri": "https://localhost:8080/"
        },
        "id": "S_lD5sRAQ8pv",
        "outputId": "88a31a9f-9084-4abb-da05-36fe783180e0"
      },
      "execution_count": null,
      "outputs": [
        {
          "output_type": "stream",
          "name": "stdout",
          "text": [
            "몇 층?: 3\n",
            " *****\n",
            "  ***\n",
            "   *\n",
            "    \n"
          ]
        }
      ]
    },
    {
      "cell_type": "code",
      "source": [
        "a=int(input(\"몇 층?: \"))\n",
        "for i in range(a+1):\n",
        "    for j in range(a-i):\n",
        "      print(' ',end='')\n",
        "    for k in range(2*i-1):\n",
        "      print('*',end='')\n",
        "    print()\n",
        "\n",
        "for i in range(a+1):\n",
        "    for j in range(i+1):\n",
        "      print(' ',end='')\n",
        "    for k in range(a+1-i*2+1):\n",
        "      print('*',end='')\n",
        "    print()"
      ],
      "metadata": {
        "colab": {
          "base_uri": "https://localhost:8080/"
        },
        "id": "n_wDe7XUMWiI",
        "outputId": "be0a64fd-586d-447d-8418-96cb1894ed60"
      },
      "execution_count": null,
      "outputs": [
        {
          "output_type": "stream",
          "name": "stdout",
          "text": [
            "몇 층?: 5\n",
            "     \n",
            "    *\n",
            "   ***\n",
            "  *****\n",
            " *******\n",
            "*********\n",
            " *******\n",
            "  *****\n",
            "   ***\n",
            "    *\n",
            "     \n",
            "      \n"
          ]
        }
      ]
    },
    {
      "cell_type": "markdown",
      "source": [
        "별 출력하기\n",
        "while문"
      ],
      "metadata": {
        "id": "rVt8y3o2T16P"
      }
    },
    {
      "cell_type": "code",
      "source": [
        "a=int(input(\"몇 층?: \"))\n",
        "i=0\n",
        "j=0\n",
        "while i < a:\n",
        "  while j < a:\n",
        "    print('*',end='')\n",
        "    j+=1\n",
        "  i+=1\n",
        "  j=0\n",
        "  print()"
      ],
      "metadata": {
        "colab": {
          "base_uri": "https://localhost:8080/"
        },
        "id": "uFurvO2pTZIw",
        "outputId": "20cfb517-53a8-4cb2-9406-bbd410ae89fb"
      },
      "execution_count": null,
      "outputs": [
        {
          "output_type": "stream",
          "name": "stdout",
          "text": [
            "몇 층?: 5\n",
            "*****\n",
            "*****\n",
            "*****\n",
            "*****\n",
            "*****\n"
          ]
        }
      ]
    },
    {
      "cell_type": "code",
      "source": [
        "a=int(input(\"몇 층?: \"))\n",
        "i=0\n",
        "j=0\n",
        "while i < a+1:\n",
        "  while j < i:\n",
        "    print('*',end='')\n",
        "    j+=1\n",
        "  i+=1\n",
        "  j=0\n",
        "  print()"
      ],
      "metadata": {
        "colab": {
          "base_uri": "https://localhost:8080/"
        },
        "id": "CAP9Jv_eT7tY",
        "outputId": "39894d3e-f0ed-4f06-a497-d61d4f6bfc0e"
      },
      "execution_count": null,
      "outputs": [
        {
          "output_type": "stream",
          "name": "stdout",
          "text": [
            "몇 층?: 5\n",
            "\n",
            "*\n",
            "**\n",
            "***\n",
            "****\n",
            "*****\n"
          ]
        }
      ]
    },
    {
      "cell_type": "code",
      "source": [
        "a=int(input(\"몇 층?: \"))\n",
        "i=0\n",
        "j=0\n",
        "while i < a+1:\n",
        "  while j < a-i:\n",
        "    print(' ',end='')\n",
        "    j+=1\n",
        "  while k < i:\n",
        "    print('*',end='')\n",
        "    k+=1\n",
        "  i+=1\n",
        "  j=0\n",
        "  k=0\n",
        "  print()"
      ],
      "metadata": {
        "colab": {
          "base_uri": "https://localhost:8080/"
        },
        "id": "fO05j2ZnUPXv",
        "outputId": "65892f8d-1b6c-4e64-c62a-1797f1bc46ed"
      },
      "execution_count": null,
      "outputs": [
        {
          "output_type": "stream",
          "name": "stdout",
          "text": [
            "몇 층?: 5\n",
            "     \n",
            "    *\n",
            "   **\n",
            "  ***\n",
            " ****\n",
            "*****\n"
          ]
        }
      ]
    },
    {
      "cell_type": "code",
      "source": [
        "a=int(input(\"몇 층?: \"))\n",
        "i=0\n",
        "j=0\n",
        "while i < a+1:\n",
        "  while j < a-i:\n",
        "    print(' ',end='')\n",
        "    j+=1\n",
        "  while k < 2*i-1:\n",
        "    print('*',end='')\n",
        "    k+=1\n",
        "  i+=1\n",
        "  j=0\n",
        "  k=0\n",
        "  print()"
      ],
      "metadata": {
        "colab": {
          "base_uri": "https://localhost:8080/"
        },
        "id": "-JCx18TRUeIH",
        "outputId": "9b6bcc64-b5d8-4317-e616-ee63ea9189c9"
      },
      "execution_count": null,
      "outputs": [
        {
          "output_type": "stream",
          "name": "stdout",
          "text": [
            "몇 층?: 5\n",
            "     \n",
            "    *\n",
            "   ***\n",
            "  *****\n",
            " *******\n",
            "*********\n"
          ]
        }
      ]
    },
    {
      "cell_type": "code",
      "source": [
        "a=int(input(\"몇 층?: \"))\n",
        "i=0\n",
        "j=0\n",
        "while i < a+1:\n",
        "  while j < i+1:\n",
        "    print(' ',end='')\n",
        "    j+=1\n",
        "  while k < a+1-i*2+1:\n",
        "    print('*',end='')\n",
        "    k+=1\n",
        "  i+=1\n",
        "  j=0\n",
        "  k=0\n",
        "  print()"
      ],
      "metadata": {
        "colab": {
          "base_uri": "https://localhost:8080/"
        },
        "id": "xNg_SCf4WJq3",
        "outputId": "7f5466c0-89e5-432b-c5df-b043a87fc24b"
      },
      "execution_count": null,
      "outputs": [
        {
          "output_type": "stream",
          "name": "stdout",
          "text": [
            "몇 층?: 3\n",
            " *****\n",
            "  ***\n",
            "   *\n",
            "    \n"
          ]
        }
      ]
    },
    {
      "cell_type": "code",
      "source": [
        "a=int(input(\"몇 층?: \"))\n",
        "i=0\n",
        "j=0\n",
        "while i < a+1:\n",
        "  while j < a-i:\n",
        "    print(' ',end='')\n",
        "    j+=1\n",
        "  while k < 2*i-1:\n",
        "    print('*',end='')\n",
        "    k+=1\n",
        "  i+=1\n",
        "  j=0\n",
        "  k=0\n",
        "  print()\n",
        "i=0\n",
        "j=0\n",
        "k=0\n",
        "while i < a+1:\n",
        "  while j < i+1:\n",
        "    print(' ',end='')\n",
        "    j+=1\n",
        "  while k < a+1-i*2+1:\n",
        "    print('*',end='')\n",
        "    k+=1\n",
        "  i+=1\n",
        "  j=0\n",
        "  k=0\n",
        "  print()"
      ],
      "metadata": {
        "colab": {
          "base_uri": "https://localhost:8080/"
        },
        "id": "f8jOIhTCW_eP",
        "outputId": "3b3d3f52-d33a-4045-fe21-30e58efb8f50"
      },
      "execution_count": null,
      "outputs": [
        {
          "output_type": "stream",
          "name": "stdout",
          "text": [
            "몇 층?: 5\n",
            "     \n",
            "    *\n",
            "   ***\n",
            "  *****\n",
            " *******\n",
            "*********\n",
            " *******\n",
            "  *****\n",
            "   ***\n",
            "    *\n",
            "     \n",
            "      \n"
          ]
        }
      ]
    }
  ]
}