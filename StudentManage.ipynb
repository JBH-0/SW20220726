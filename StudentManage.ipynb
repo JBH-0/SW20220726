{
  "nbformat": 4,
  "nbformat_minor": 0,
  "metadata": {
    "colab": {
      "name": "StudentManage.ipynb",
      "provenance": [],
      "collapsed_sections": [],
      "authorship_tag": "ABX9TyPqBStDLcp940UTgFnprlzH",
      "include_colab_link": true
    },
    "kernelspec": {
      "name": "python3",
      "display_name": "Python 3"
    },
    "language_info": {
      "name": "python"
    }
  },
  "cells": [
    {
      "cell_type": "markdown",
      "metadata": {
        "id": "view-in-github",
        "colab_type": "text"
      },
      "source": [
        "<a href=\"https://colab.research.google.com/github/JBH-0/SW20220726/blob/main/StudentManage.ipynb\" target=\"_parent\"><img src=\"https://colab.research.google.com/assets/colab-badge.svg\" alt=\"Open In Colab\"/></a>"
      ]
    },
    {
      "cell_type": "markdown",
      "source": [
        "#학생 성적 관리 프로그램(파이썬)"
      ],
      "metadata": {
        "id": "hUR8mo74i2qF"
      }
    },
    {
      "cell_type": "markdown",
      "source": [
        "마지막에 파일 쓰는 함수"
      ],
      "metadata": {
        "id": "COxs-EUQLxF6"
      }
    },
    {
      "cell_type": "code",
      "execution_count": 202,
      "metadata": {
        "id": "nIqGjdEUcNsa"
      },
      "outputs": [],
      "source": [
        "import pickle\n",
        "def write():\n",
        "  with open('student.p','wb') as file: #student.p 파일을 바이너리 쓰기 모드(wb)로 열기\n",
        "    pickle.dump(newDic,file)"
      ]
    },
    {
      "cell_type": "markdown",
      "source": [
        "처음에 파일 읽어오는 함수"
      ],
      "metadata": {
        "id": "_FMZhdGkLvXz"
      }
    },
    {
      "cell_type": "code",
      "source": [
        "newDic=dict() #파일에서 읽어온 것 저장, 사용자가 입력한 값을 저장한 딕셔너리\n",
        "def read():\n",
        "  with open('student.p','rb') as file: #student.p 파일을 바이너리 읽기 모드(rb)로 열기\n",
        "    data=pickle.load(file)\n",
        "  for key1,value1 in data.items():\n",
        "    stInfoK={key:value for key,value in value1.items()}\n",
        "    newDic.setdefault(key1,stInfoK)"
      ],
      "metadata": {
        "id": "xJkXjnmckMDU"
      },
      "execution_count": 203,
      "outputs": []
    },
    {
      "cell_type": "markdown",
      "source": [
        "입력 함수"
      ],
      "metadata": {
        "id": "Py1Lqxr_Lh0b"
      }
    },
    {
      "cell_type": "code",
      "source": [
        "def get():\n",
        "  check=True\n",
        "  while(check):\n",
        "    num=input(\"학번: \")\n",
        "    if num in newDic:\n",
        "      print('겹치는 학번이 있습니다.')\n",
        "      continue\n",
        "    else:\n",
        "      check=False\n",
        "  name=input(\"이름: \")\n",
        "  kor=int(input(\"국어 점수: \"))\n",
        "  eng=int(input(\"영어 점수: \"))\n",
        "  mat=int(input(\"수학 점수: \"))\n",
        "  avg=round((kor+eng+mat)/3,2)\n",
        "\n",
        "  stDic={'이름':name, '국어':kor, '영어':eng, '수학':mat,'평균':avg} #학생 정보 딕셔너리\n",
        "  newDic.setdefault(num,stDic) #학번을 key, 학생 정보 딕셔너리를 value"
      ],
      "metadata": {
        "id": "_Y3ruxCrnNzI"
      },
      "execution_count": 204,
      "outputs": []
    },
    {
      "cell_type": "markdown",
      "source": [
        "출력 함수"
      ],
      "metadata": {
        "id": "7xCi18SuLtEz"
      }
    },
    {
      "cell_type": "code",
      "source": [
        "def output():\n",
        "  if bool(newDic)==False: #데이터가 없을 경우\n",
        "    print('데이터가 없습니다.')\n",
        "  else: #데이터가 있으면 값을 출력\n",
        "    for key1,value1 in newDic.items():\n",
        "      print('학번 :',key1,end='  ')\n",
        "      stInfoK={key:value for key,value in value1.items()}\n",
        "      for key2,value2 in stInfoK.items():\n",
        "        print(key2,':',value2,end='  ')\n",
        "      print()"
      ],
      "metadata": {
        "id": "k13Rr7SCDQZ8"
      },
      "execution_count": 205,
      "outputs": []
    },
    {
      "cell_type": "markdown",
      "source": [
        "검색 함수"
      ],
      "metadata": {
        "id": "fXEyyFplvh5y"
      }
    },
    {
      "cell_type": "code",
      "source": [
        "def search():\n",
        "  if bool(newDic)==False: #데이터가 없을 경우\n",
        "    print('데이터가 없습니다.')\n",
        "  else: #데이터가 있으면 삭제할 수 있음\n",
        "    serData=input('검색하고 싶은 학번 입력: ')\n",
        "    for key1,value1 in newDic.items():\n",
        "      if key1==serData:\n",
        "        print('학번 :',key1,end='  ')\n",
        "        stInfoK={key:value for key,value in value1.items()}\n",
        "        for key2,value2 in stInfoK.items():\n",
        "          print(key2,':',value2,end='  ')\n",
        "        print()"
      ],
      "metadata": {
        "id": "WOTkNxQEviyx"
      },
      "execution_count": 206,
      "outputs": []
    },
    {
      "cell_type": "markdown",
      "source": [
        "삭제 함수"
      ],
      "metadata": {
        "id": "t45j6QLoq7Qy"
      }
    },
    {
      "cell_type": "code",
      "source": [
        "def delete():\n",
        "  if bool(newDic)==False: #데이터가 없을 경우\n",
        "    print('데이터가 없습니다.')\n",
        "  else: #데이터가 있으면 삭제할 수 있음\n",
        "    delData=input('삭제하고 싶은 학번 입력: ')\n",
        "    if delData in newDic:\n",
        "      print('삭제 완료했습니다')\n",
        "      newDic.pop(delData)\n",
        "    else:\n",
        "      print('존재하지 않은 학번입니다.')"
      ],
      "metadata": {
        "id": "uV3EeGkpq8HJ"
      },
      "execution_count": 207,
      "outputs": []
    },
    {
      "cell_type": "markdown",
      "source": [
        "수정 함수"
      ],
      "metadata": {
        "id": "qJqC9iIovfJ5"
      }
    },
    {
      "cell_type": "code",
      "source": [
        "def modify():\n",
        "  if bool(newDic)==False: #데이터가 없을 경우\n",
        "    print('데이터가 없습니다.')\n",
        "  else: #데이터가 있으면 삭제할 수 있음\n",
        "    modiNum=input('수정하고 싶은 학번 입력: ')\n",
        "    if modiNum not in newDic:\n",
        "        print('존재하지 않은 학번입니다.')\n",
        "    else:\n",
        "      for key1,value1 in newDic.items():\n",
        "        if key1==modiNum:\n",
        "          print('학번 :',key1)\n",
        "          print('1. 이름 2. 국어 3. 영어 4. 수학')\n",
        "          whatModi=int(input('수정하고 싶은 정보의 번호 입력: '))\n",
        "          stInfoK={key:value for key,value in value1.items()}\n",
        "          for key2,value2 in stInfoK.items():\n",
        "            if whatModi==1 and key2=='이름':\n",
        "              modiCon=input('수정할 정보를 입력: ')\n",
        "              newDic[key1]['이름']=modiCon\n",
        "            elif whatModi==2 and key2=='국어':\n",
        "              modiCon=int(input('수정할 정보를 입력: '))\n",
        "              newDic[key1]['국어']=modiCon\n",
        "              newDic[key1]['평균']=round((newDic[key1]['국어']+newDic[key1]['영어']+newDic[key1]['수학'])/3,2)\n",
        "            elif whatModi==3 and key2=='영어':\n",
        "              modiCon=int(input('수정할 정보를 입력: '))\n",
        "              newDic[key1]['영어']=modiCon\n",
        "              newDic[key1]['평균']=round((newDic[key1]['국어']+newDic[key1]['영어']+newDic[key1]['수학'])/3,2)\n",
        "            elif whatModi==4 and key2=='수학':\n",
        "              modiCon=int(input('수정할 정보를 입력: '))\n",
        "              newDic[key1]['수학']=modiCon\n",
        "              newDic[key1]['평균']=round((newDic[key1]['국어']+newDic[key1]['영어']+newDic[key1]['수학'])/3,2)\n",
        "            elif whatModi<1 and whatModi>4:\n",
        "              print('번호를 잘못 입력했습니다.')"
      ],
      "metadata": {
        "id": "iRdj7Xjyvg6p"
      },
      "execution_count": 208,
      "outputs": []
    },
    {
      "cell_type": "markdown",
      "source": [
        "main 함수"
      ],
      "metadata": {
        "id": "Q_jBMaNUq5Ya"
      }
    },
    {
      "cell_type": "code",
      "source": [
        "def main():\n",
        "  print('1. 입력 2. 출력 3. 검색 4. 삭제 5. 수정 6. 종료')\n",
        "  num=int(input())\n",
        "  if num==1:\n",
        "    print('<<<입력>>>')\n",
        "    get()\n",
        "  elif num==2:\n",
        "    print('<<<출력>>>')\n",
        "    output()\n",
        "  elif num==3:\n",
        "    print('<<<검색>>>')\n",
        "    search()\n",
        "  elif num==4:\n",
        "    print('<<<삭제>>>')\n",
        "    delete()\n",
        "  elif num==5:\n",
        "    print('<<<수정>>>')\n",
        "    modify()\n",
        "  elif num==6:\n",
        "    print('종료하겠습니다.')\n",
        "    write()\n",
        "    return False\n",
        "  else:\n",
        "    print('숫자를 다시 입력하세요')"
      ],
      "metadata": {
        "id": "ylOhmT34HENL"
      },
      "execution_count": 209,
      "outputs": []
    },
    {
      "cell_type": "markdown",
      "source": [
        "실행"
      ],
      "metadata": {
        "id": "5bMlG_vo-X09"
      }
    },
    {
      "cell_type": "code",
      "source": [
        "import os\n",
        "if os.path.isfile(\"student.p\"): #파일이 존재하고\n",
        "  if os.stat(\"student.p\").st_size != 0: #파일에 내용이 있으면 \n",
        "    read() #파일 내용을 읽는 함수 호출\n",
        "check=True\n",
        "while(check):\n",
        "  che=main()\n",
        "  if che==False:\n",
        "    check=False"
      ],
      "metadata": {
        "colab": {
          "base_uri": "https://localhost:8080/"
        },
        "id": "Si5aFtzyLAaT",
        "outputId": "edfeb175-3476-4dc7-8561-905677964851"
      },
      "execution_count": 211,
      "outputs": [
        {
          "output_type": "stream",
          "name": "stdout",
          "text": [
            "1. 입력 2. 출력 3. 검색 4. 삭제 5. 수정 6. 종료\n",
            "2\n",
            "<<<출력>>>\n",
            "학번 : 1  이름 : 1  국어 : 1  영어 : 40  수학 : 1  평균 : 14.0  \n",
            "학번 : 2  이름 : 2  국어 : 2  영어 : 2  수학 : 2  평균 : 2.0  \n",
            "1. 입력 2. 출력 3. 검색 4. 삭제 5. 수정 6. 종료\n",
            "1\n",
            "<<<입력>>>\n",
            "학번: 3\n",
            "이름: 3\n",
            "국어 점수: 3\n",
            "영어 점수: 3\n",
            "수학 점수: 3\n",
            "1. 입력 2. 출력 3. 검색 4. 삭제 5. 수정 6. 종료\n",
            "2\n",
            "<<<출력>>>\n",
            "학번 : 1  이름 : 1  국어 : 1  영어 : 40  수학 : 1  평균 : 14.0  \n",
            "학번 : 2  이름 : 2  국어 : 2  영어 : 2  수학 : 2  평균 : 2.0  \n",
            "학번 : 3  이름 : 3  국어 : 3  영어 : 3  수학 : 3  평균 : 3.0  \n",
            "1. 입력 2. 출력 3. 검색 4. 삭제 5. 수정 6. 종료\n",
            "5\n",
            "<<<수정>>>\n",
            "수정하고 싶은 학번 입력: 2\n",
            "학번 : 2\n",
            "1. 이름 2. 국어 3. 영어 4. 수학\n",
            "수정하고 싶은 정보의 번호 입력: 2\n",
            "수정할 정보를 입력: 90\n",
            "1. 입력 2. 출력 3. 검색 4. 삭제 5. 수정 6. 종료\n",
            "2\n",
            "<<<출력>>>\n",
            "학번 : 1  이름 : 1  국어 : 1  영어 : 40  수학 : 1  평균 : 14.0  \n",
            "학번 : 2  이름 : 2  국어 : 90  영어 : 2  수학 : 2  평균 : 31.33  \n",
            "학번 : 3  이름 : 3  국어 : 3  영어 : 3  수학 : 3  평균 : 3.0  \n",
            "1. 입력 2. 출력 3. 검색 4. 삭제 5. 수정 6. 종료\n",
            "3\n",
            "<<<검색>>>\n",
            "검색하고 싶은 학번 입력: 4\n",
            "1. 입력 2. 출력 3. 검색 4. 삭제 5. 수정 6. 종료\n",
            "3\n",
            "<<<검색>>>\n",
            "검색하고 싶은 학번 입력: 2\n",
            "학번 : 2  이름 : 2  국어 : 90  영어 : 2  수학 : 2  평균 : 31.33  \n",
            "1. 입력 2. 출력 3. 검색 4. 삭제 5. 수정 6. 종료\n",
            "4\n",
            "<<<삭제>>>\n",
            "삭제하고 싶은 학번 입력: 3\n",
            "삭제 완료했습니다\n",
            "1. 입력 2. 출력 3. 검색 4. 삭제 5. 수정 6. 종료\n",
            "2\n",
            "<<<출력>>>\n",
            "학번 : 1  이름 : 1  국어 : 1  영어 : 40  수학 : 1  평균 : 14.0  \n",
            "학번 : 2  이름 : 2  국어 : 90  영어 : 2  수학 : 2  평균 : 31.33  \n",
            "1. 입력 2. 출력 3. 검색 4. 삭제 5. 수정 6. 종료\n",
            "6\n",
            "종료하겠습니다.\n"
          ]
        }
      ]
    },
    {
      "cell_type": "code",
      "source": [
        ""
      ],
      "metadata": {
        "id": "s1d3aTrL-GQE"
      },
      "execution_count": null,
      "outputs": []
    }
  ]
}